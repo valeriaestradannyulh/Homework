{
  "nbformat": 4,
  "nbformat_minor": 0,
  "metadata": {
    "colab": {
      "provenance": [],
      "authorship_tag": "ABX9TyNWPm2ygVsq7tZMGyWlkDKS",
      "include_colab_link": true
    },
    "kernelspec": {
      "name": "python3",
      "display_name": "Python 3"
    },
    "language_info": {
      "name": "python"
    }
  },
  "cells": [
    {
      "cell_type": "markdown",
      "metadata": {
        "id": "view-in-github",
        "colab_type": "text"
      },
      "source": [
        "<a href=\"https://colab.research.google.com/github/valeriaestradannyulh/Homework/blob/main/RigorRep_VEN_Computational_Reproducibility_Homework.ipynb\" target=\"_parent\"><img src=\"https://colab.research.google.com/assets/colab-badge.svg\" alt=\"Open In Colab\"/></a>"
      ]
    },
    {
      "cell_type": "code",
      "execution_count": null,
      "metadata": {
        "id": "_aurhYRylWWI",
        "outputId": "27748aef-74e2-4a3d-f49a-0497ecf6196a",
        "colab": {
          "base_uri": "https://localhost:8080/"
        }
      },
      "outputs": [
        {
          "output_type": "stream",
          "name": "stdout",
          "text": [
            "Today's date is: 2024-10-30\n",
            "The result of 2 * 5 is: 10\n"
          ]
        }
      ],
      "source": [
        "from datetime import date\n",
        "\n",
        "# Print today's date\n",
        "today = date.today()\n",
        "print(\"Today's date is:\", today)\n",
        "\n",
        "# Perform a simple arithmetic operation\n",
        "result = 2 * 5\n",
        "print(\"The result of 2 * 5 is:\", result)"
      ]
    },
    {
      "cell_type": "code",
      "source": [],
      "metadata": {
        "id": "-gqfJYu6r41Z"
      },
      "execution_count": null,
      "outputs": []
    }
  ]
}